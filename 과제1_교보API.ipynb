{
  "nbformat": 4,
  "nbformat_minor": 0,
  "metadata": {
    "colab": {
      "provenance": [],
      "include_colab_link": true
    },
    "kernelspec": {
      "name": "python3",
      "display_name": "Python 3"
    },
    "language_info": {
      "name": "python"
    }
  },
  "cells": [
    {
      "cell_type": "markdown",
      "metadata": {
        "id": "view-in-github",
        "colab_type": "text"
      },
      "source": [
        "<a href=\"https://colab.research.google.com/github/hlpvy/class2022Fall/blob/main/%EA%B3%BC%EC%A0%9C1_%EA%B5%90%EB%B3%B4API.ipynb\" target=\"_parent\"><img src=\"https://colab.research.google.com/assets/colab-badge.svg\" alt=\"Open In Colab\"/></a>"
      ]
    },
    {
      "cell_type": "code",
      "source": [
        "!pip install gradio\n",
        "import gradio as gr\n",
        "import requests\n",
        "import pandas as pd\n",
        "\n",
        "!pip install xmltodict\n",
        "import json\n",
        "import xmltodict"
      ],
      "metadata": {
        "id": "eEDbhjceIrUr"
      },
      "execution_count": null,
      "outputs": []
    },
    {
      "cell_type": "code",
      "source": [
        "#bookID = 'S000000620181'\n",
        "def test(bookID):\n",
        "  url='https://product.kyobobook.co.kr/api/review/list?page=1&pageLimit=10000&reviewSort=001&revwPatrCode=000&saleCmdtid='+bookID\n",
        "  response = requests.get(url)\n",
        "  json_txt = response.text\n",
        "  dict_data = json.loads(json_txt)\n",
        "  item = dict_data['data']['reviewList']\n",
        "  df = pd.DataFrame(item)\n",
        "  return df"
      ],
      "metadata": {
        "id": "Fk4pMQJtO-eh"
      },
      "execution_count": 22,
      "outputs": []
    },
    {
      "cell_type": "code",
      "source": [
        "demo = gr.Interface(fn=test, inputs=[\"text\"], outputs=\"dataframe\")\n",
        "demo.launch(share=True)"
      ],
      "metadata": {
        "id": "MmDVNKZ0PBCo"
      },
      "execution_count": null,
      "outputs": []
    }
  ]
}